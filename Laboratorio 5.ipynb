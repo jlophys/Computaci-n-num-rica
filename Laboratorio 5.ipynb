{
 "cells": [
  {
   "cell_type": "code",
   "execution_count": 2,
   "metadata": {},
   "outputs": [
    {
     "name": "stdout",
     "output_type": "stream",
     "text": [
      "[[-0.05555556]\n",
      " [ 0.91503268]\n",
      " [ 0.05228758]]\n"
     ]
    }
   ],
   "source": [
    "# Implementación del método de Gauss Simple\n",
    "from numpy import*\n",
    "a = [[2,3,7],[-2,5,6],[8,9,4]]\n",
    "b = [3,5,8]\n",
    "n = len(b)\n",
    "c = zeros([n,n+1])\n",
    "for i in range(n):\n",
    "    for j in range(n):\n",
    "        c[i][j] = a[i][j]\n",
    "    c[i][n] = b[i]\n",
    "for e in range(n):\n",
    "    t = c[e][e]\n",
    "    for j in range(e,n+1):\n",
    "        c[e][j] = c[e][j]/t\n",
    "    for i in range(e+1,n):\n",
    "        t = c[i][e]\n",
    "        for j in range(e,n+1):\n",
    "            c[i][j] = c[i][j] - t*c[e][j]\n",
    "x = zeros([n,1])\n",
    "x[n-1] = c[n-1][n]\n",
    "for i in range(n-2,-1,-1):\n",
    "    s = 0\n",
    "    for j in range(i+1,n):\n",
    "        s = s+c[i][j] * x[j]\n",
    "    x[i] = c[i][n] - s\n",
    "#return x\n",
    "print(x)"
   ]
  },
  {
   "cell_type": "code",
   "execution_count": 9,
   "metadata": {},
   "outputs": [
    {
     "name": "stdout",
     "output_type": "stream",
     "text": [
      "[[-0.05555556]\n",
      " [ 0.91503268]\n",
      " [ 0.05228758]]\n"
     ]
    }
   ],
   "source": [
    "#solución de un Sistema lineal: Gauss con pivoteo\n",
    "from numpy import*\n",
    "a = [[2,3,7],[-2,5,6],[8,9,4]]\n",
    "b = [3,5,8]\n",
    "n = len(b)\n",
    "c = zeros([n,n+1])\n",
    "for i in range(n):\n",
    "    for j in range(n):\n",
    "        c[i][j] = a[i][j]\n",
    "    c[i][n] = b[i]\n",
    "for e in range(n):\n",
    "    p = e\n",
    "    for i in range(e+1,n):\n",
    "        if abs(c[i][e]) > abs(c[p][e]):\n",
    "            p = i\n",
    "    for j in range(e,n+1):\n",
    "        t = c[e][j]\n",
    "        c[e][j] = c[p][j]\n",
    "        c[p][j] = t\n",
    "    t = c[e][e]\n",
    "    if abs(t) < 1e-10:\n",
    "        print()\n",
    "    for j in range(e,n+1):\n",
    "        c[e][j] = c[e][j]/t\n",
    "    for i in range(e+1,n):\n",
    "        t = c[i][e]\n",
    "        for j in range(e,n+1):\n",
    "            c[i][j] = c[i][j] - t*c[e][j]\n",
    "x = zeros([n,1])\n",
    "x[n-1] = c[n-1][n]\n",
    "for i in range(n-2,-1,-1):\n",
    "    s = 0\n",
    "    for j in range(i+1,n):\n",
    "        s = s+c[i][j]*x[j]\n",
    "    x[i] = c[i][n]-s\n",
    "print(x)\n"
   ]
  },
  {
   "cell_type": "code",
   "execution_count": 12,
   "metadata": {},
   "outputs": [
    {
     "name": "stdout",
     "output_type": "stream",
     "text": [
      "[0.7402402402402403, 0.16366366366366353, 4.8288288288288275, -4.432432432432431]\n"
     ]
    }
   ],
   "source": [
    "# Sistema tridiagonal (algoritmo de Thomas)\n",
    "a = [0,2,6,9]\n",
    "b = [7,-8,4,8]\n",
    "c = [5,1,3,0]\n",
    "d = [6,5,7,8]\n",
    "n = len(d)\n",
    "w = [b[0]]\n",
    "g = [d[0]/w[0]]\n",
    "for i in range(1,n):\n",
    "    w = w+[b[i]-a[i]*c[i-1]/w[i-1]]\n",
    "    g = g+[(d[i]-a[i]*g[i-1])/w[i]]\n",
    "x = []\n",
    "for i in range(n):\n",
    "    x = x+[0]\n",
    "x[n-1] = g[n-1]\n",
    "for i in range(n-2,-1,-1):\n",
    "    t = x[i+1]\n",
    "    x[i] = g[i]-c[i]*t/w[i]\n",
    "print(x)"
   ]
  },
  {
   "cell_type": "code",
   "execution_count": 14,
   "metadata": {},
   "outputs": [
    {
     "data": {
      "text/plain": [
       "-306.0"
      ]
     },
     "execution_count": 14,
     "metadata": {},
     "output_type": "execute_result"
    }
   ],
   "source": [
    "from numpy import*\n",
    "a = [[2,3,7],[-2,5,6],[8,9,4]]\n",
    "b = [3,5,8]\n",
    "linalg.det(a)"
   ]
  },
  {
   "cell_type": "code",
   "execution_count": 15,
   "metadata": {},
   "outputs": [
    {
     "name": "stdout",
     "output_type": "stream",
     "text": [
      "[-0.05555556  0.91503268  0.05228758]\n"
     ]
    }
   ],
   "source": [
    "x = dot(linalg.inv(a),b)\n",
    "print(x)"
   ]
  },
  {
   "cell_type": "code",
   "execution_count": 17,
   "metadata": {},
   "outputs": [
    {
     "name": "stdout",
     "output_type": "stream",
     "text": [
      "[-0.0556  0.915   0.0523]\n"
     ]
    }
   ],
   "source": [
    "#Con la opción set_printoptions(precisión = d)\n",
    "set_printoptions(precision = 4)\n",
    "print(x)"
   ]
  },
  {
   "cell_type": "code",
   "execution_count": 19,
   "metadata": {},
   "outputs": [
    {
     "name": "stdout",
     "output_type": "stream",
     "text": [
      "[-0.0556  0.915   0.0523]\n"
     ]
    }
   ],
   "source": [
    "x = linalg.solve(a,b)\n",
    "print(x)"
   ]
  },
  {
   "cell_type": "code",
   "execution_count": null,
   "metadata": {},
   "outputs": [],
   "source": [
    "linalg.norm(a,1)\n",
    "linalgnorm(a,inf)\n",
    "linalg.cond(a,1)\n",
    "linalg.cond(a,inf)"
   ]
  }
 ],
 "metadata": {
  "kernelspec": {
   "display_name": "Python 3",
   "language": "python",
   "name": "python3"
  },
  "language_info": {
   "codemirror_mode": {
    "name": "ipython",
    "version": 3
   },
   "file_extension": ".py",
   "mimetype": "text/x-python",
   "name": "python",
   "nbconvert_exporter": "python",
   "pygments_lexer": "ipython3",
   "version": "3.7.4"
  }
 },
 "nbformat": 4,
 "nbformat_minor": 4
}
