{
 "cells": [
  {
   "cell_type": "markdown",
   "metadata": {},
   "source": [
    "* Calcule $20$ puntos de la solución de la ecuación $y’-y-x+x^2-1=0$, con $y(0)=1$ espaciados en una distancia $h=0.1$, usando la función euler."
   ]
  },
  {
   "cell_type": "code",
   "execution_count": 1,
   "metadata": {},
   "outputs": [
    {
     "data": {
      "image/png": "[encoded data removed]",
      "text/plain": [
       "<Figure size 432x288 with 1 Axes>"
      ]
     },
     "metadata": {
      "needs_background": "light"
     },
     "output_type": "display_data"
    }
   ],
   "source": [
    "from pylab import *\n",
    "\n",
    "def f(x,y): return y-x**2+x+1\n",
    "\n",
    "def y(x): return exp(x)+x**2+x\n",
    "\n",
    "def euler(f,x,y,h,m):\n",
    "    u=[]\n",
    "    v=[]\n",
    "    for i in range(m):\n",
    "        y = y+h*f(x,y)\n",
    "        x = x+h\n",
    "        u = u+[x]\n",
    "        v = v+[y]\n",
    "    return [u,v]\n",
    "\n",
    "[u,v] = euler(f,0,1,0.1,20)\n",
    "plot(u,v,'or')\n",
    "\n",
    "x = arange(0,2.1,0.1)\n",
    "plot(x,y(x),'ob')\n",
    "grid(True)\n",
    "show()\n",
    "\n"
   ]
  },
  {
   "cell_type": "markdown",
   "metadata": {},
   "source": [
    "* Calcule $20$ puntos de la solución de la ecuación $y’-y-x+x^2-1=0$, con $y(0)=1$ espaciados en una distancia $h=0.1$, usando la función heun."
   ]
  },
  {
   "cell_type": "code",
   "execution_count": 2,
   "metadata": {
    "scrolled": true
   },
   "outputs": [
    {
     "data": {
      "image/png": "[encoded data removed]",
      "text/plain": [
       "<Figure size 432x288 with 1 Axes>"
      ]
     },
     "metadata": {
      "needs_background": "light"
     },
     "output_type": "display_data"
    }
   ],
   "source": [
    "from pylab import *\n",
    "\n",
    "def f(x,y): return y-x**2+x+1\n",
    "\n",
    "def y(x): return exp(x)+x**2+x\n",
    "\n",
    "def heun(f,x,y,h,m):\n",
    "    u=[]\n",
    "    v=[]\n",
    "    for i in range(m):\n",
    "        k1 = h*f(x,y)\n",
    "        k2 = h*f(x+h,y+k1)\n",
    "        y = y+0.5*(k1+k2)\n",
    "        x = x+h\n",
    "        u = u+[x]\n",
    "        v = v+[y]\n",
    "        \n",
    "    return [u,v]\n",
    "\n",
    "[u,v] = heun(f,0,1,0.1,20)\n",
    "plot(u,v,'or')\n",
    "x = arange(0,2.1,0.1)\n",
    "plot(x,y(x),'ob')\n",
    "grid(True)\n",
    "show()"
   ]
  },
  {
   "cell_type": "markdown",
   "metadata": {},
   "source": [
    "* Calcule $20$ puntos de la solución de la ecuación $y’-y-x+x^2-1=0$, con $y(0)=1$ espaciados en una distancia $h=0.1$, usando la función rungekutta."
   ]
  },
  {
   "cell_type": "code",
   "execution_count": 3,
   "metadata": {},
   "outputs": [
    {
     "data": {
      "image/png": "[encoded data removed]",
      "text/plain": [
       "<Figure size 432x288 with 1 Axes>"
      ]
     },
     "metadata": {
      "needs_background": "light"
     },
     "output_type": "display_data"
    }
   ],
   "source": [
    "from pylab import *\n",
    "\n",
    "def f(x,y): return y-x**2+x+1\n",
    "\n",
    "def y(x): return exp(x)+x**2+x\n",
    "\n",
    "def rungekutta(f,x,y,h,m):\n",
    "    u=[]\n",
    "    v=[]\n",
    "    for i in range(m):\n",
    "        k1 = h*f(x,y)\n",
    "        k2 = h*f(x+h/2,y+k1/2)\n",
    "        k3 = h*f(x+h/2,y+k2/2)\n",
    "        k4 = h*f(x+h,y+k3)\n",
    "        y = y+1/6*(k1+2*k2+2*k3+k4)\n",
    "        x = x+h\n",
    "        u = u+[x]\n",
    "        v = v+[y]\n",
    "        \n",
    "    return [u,v]\n",
    "\n",
    "[u,v] = rungekutta(f,0,1,0.1,20)\n",
    "plot(u,v,'or')\n",
    "x = arange(0,2.1,0.1)\n",
    "plot(x,y(x),'ob')\n",
    "grid(True)\n",
    "show()"
   ]
  },
  {
   "cell_type": "markdown",
   "metadata": {},
   "source": [
    "Problema 1\n",
    "-----------\n",
    "Si se drena el agua desde un tanque cilíndrico vertical por medio de abrir una válvula en la base, el líquido fluirá rápido cuando el tanque esté lleno y despacio conforme se drene. Como se ve, la tasa a la que el nivel del agua disminuye es:\n",
    "\n",
    "\\begin{equation}\n",
    "\\frac{dy}{dt}=-k\\sqrt{y}\n",
    "\\end{equation}\n",
    "\n",
    "donde $k$ es una constante que depende de la forma del agujero y del área de la sección transversal del tanque y agujero de drenaje. La profundidad del agua y se mide en metros y el tiempo t en minutos. Si $k = 0.06$, determine cuánto tiempo se requiere para vaciar el tanque si el nivel del fluido se encuentra en un inicio a 3m.\n"
   ]
  },
  {
   "cell_type": "markdown",
   "metadata": {},
   "source": [
    "Problema 2\n",
    "----------\n",
    "Para simular una población se utiliza el modelo logístico:\n",
    "\n",
    "\\begin{equation}\n",
    "\\frac{dp}{dt}=k_{gm}(1-\\frac{p}{p_{máx}})p\n",
    "\\end{equation}\n",
    "\n",
    "donde $p =$ población, $k_{gm} =$ tasa máxima de crecimiento en condiciones ilimitadas, y $p_{máx}$ es la capacidad de carga. Simule la población mundial entre 1950 y 2000, con el empleo de algún método numérico estudiados. Para la simulación, utilice las siguientes condiciones iniciales y valores de parámetros: $p_0$ (en 1950) = 2555 millones de personas, $k_{gm}=$$0.026/año, y $p_{máx} =$ 12 000 millones de personas. Haga que la función genere salidas que correspondan a las fechas de los datos siguientes de población. Desarrolle una gráfica de la simulación junto con los datos.\n",
    "\n",
    "|  $t$  |  $p$  | \n",
    "|------|------|\n",
    "| 1950 | 2555 |\n",
    "| 1960 | 3040 |\n",
    "| 1970 | 3708 |\n",
    "| 1980 | 4454 |\n",
    "| 1990 | 5276 |\n",
    "| 2000 | 6079 |\n",
    "\n",
    "\n"
   ]
  },
  {
   "cell_type": "code",
   "execution_count": null,
   "metadata": {},
   "outputs": [],
   "source": []
  }
 ],
 "metadata": {
  "kernelspec": {
   "display_name": "Python 3",
   "language": "python",
   "name": "python3"
  },
  "language_info": {
   "codemirror_mode": {
    "name": "ipython",
    "version": 3
   },
   "file_extension": ".py",
   "mimetype": "text/x-python",
   "name": "python",
   "nbconvert_exporter": "python",
   "pygments_lexer": "ipython3",
   "version": "3.7.4"
  }
 },
 "nbformat": 4,
 "nbformat_minor": 5
}
