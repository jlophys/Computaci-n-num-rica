{
 "cells": [
  {
   "cell_type": "code",
   "execution_count": 4,
   "metadata": {},
   "outputs": [],
   "source": [
    "from numpy import*\n",
    "a = [[2,3,7],[-2,5,6],[8,9,4]]\n",
    "b = [3,5,8]\n",
    "n = len(b)\n",
    "c = zeros([n,n+1])\n",
    "for i in range(n):\n",
    "    for j in range(n):\n",
    "        c[i][j] = a[i][j]\n",
    "    c[i][n] = b[i]\n",
    "for e in range(n):\n",
    "    t = c[e][e]\n",
    "    for j in range(e,n+1):\n",
    "        c[e][j] = c[e][j]/t\n",
    "    for i in range(e+1,n):\n",
    "        t = c[i][e]\n",
    "        for j in range(e,n+1):\n",
    "            c[i][j] = c[i][j] - t*c[e][j]\n",
    "x = zeros([n,1])\n",
    "x[n-1] = c[n-1][n]\n",
    "for i in range(n-2,-1,-1):\n",
    "    s = 0\n",
    "    for j in range(i+1,n):\n",
    "        s = s+c[i][j] * x[j]\n",
    "    x[i] = c[i][n] - s\n",
    "#return x"
   ]
  },
  {
   "cell_type": "code",
   "execution_count": 5,
   "metadata": {},
   "outputs": [
    {
     "data": {
      "text/plain": [
       "array([[-0.05555556],\n",
       "       [ 0.91503268],\n",
       "       [ 0.05228758]])"
      ]
     },
     "execution_count": 5,
     "metadata": {},
     "output_type": "execute_result"
    }
   ],
   "source": [
    "x"
   ]
  },
  {
   "cell_type": "code",
   "execution_count": 23,
   "metadata": {},
   "outputs": [],
   "source": [
    "c = 0\n",
    "Orden = []\n",
    "n = [10,50,100,150,200,250,300]\n",
    "F=len(n)\n",
    "for i in range(F):\n",
    "    i\n",
    "    for e in range(n[i]):\n",
    "        e\n",
    "        for l in range(e+1,n[i]):\n",
    "            for j in range(e,n[i]+1):\n",
    "                c = c + 1\n",
    "    Orden.append(c)"
   ]
  },
  {
   "cell_type": "code",
   "execution_count": 24,
   "metadata": {},
   "outputs": [
    {
     "data": {
      "text/plain": [
       "[375, 43250, 381500, 1517625, 4204125, 9443500, 18488250]"
      ]
     },
     "execution_count": 24,
     "metadata": {},
     "output_type": "execute_result"
    }
   ],
   "source": [
    "Orden"
   ]
  },
  {
   "cell_type": "code",
   "execution_count": 31,
   "metadata": {},
   "outputs": [
    {
     "data": {
      "image/png": "[encoded data removed]",
      "text/plain": [
       "<Figure size 432x288 with 1 Axes>"
      ]
     },
     "metadata": {
      "needs_background": "light"
     },
     "output_type": "display_data"
    }
   ],
   "source": [
    "import matplotlib.pyplot as plt\n",
    "from sympy.solvers import solve\n",
    "from sympy import*\n",
    "import numpy as np\n",
    "##### Datos experimentales #############\n",
    "## pueden ser  x: los datos del número de iteraciones y y: la solución o el error #####\n",
    "x= np.array(n)\n",
    "y= np.array(Orden)\n",
    "########################################\n",
    "plt.scatter(x, y, color='navy', s=40, marker='o', label='training points')\n",
    "plt.legend(loc='upper left')\n",
    "plt.show()"
   ]
  },
  {
   "cell_type": "code",
   "execution_count": 32,
   "metadata": {},
   "outputs": [
    {
     "name": "stdout",
     "output_type": "stream",
     "text": [
      "w = [ 0.00000000e+00  1.33649773e+04 -1.98669370e+02  1.20313529e+00], b = -170734.05850502662\n"
     ]
    }
   ],
   "source": [
    "# Importamos la clase de Regresión Lineal de scikit-learn\n",
    "from sklearn.linear_model import LinearRegression \n",
    "# para generar características polinómicas\n",
    "from sklearn.preprocessing import PolynomialFeatures \n",
    "###### usaremos polinomios de grado 3  ###############\n",
    "pf = PolynomialFeatures(degree = 3) \n",
    "####### transformamos la entrada en polinómica ######\n",
    "X = pf.fit_transform(x.reshape(-1,1))  \n",
    "####### creamos una instancia de LinearRegression ######\n",
    "regresion_lineal = LinearRegression() \n",
    "# instruimos a la regresión lineal que aprenda de los datos (ahora polinómicos) (X,y)\n",
    "regresion_lineal.fit(X, y) \n",
    "# vemos los parámetros que ha estimado la regresión lineal\n",
    "#### Los parametros vienen ordenados como w = [0 , A x, B x^2, C x^3], b ==> b + Ax +Bx^2+CC x^3\n",
    "print('w = ' + str(regresion_lineal.coef_) + ', b = ' + str(regresion_lineal.intercept_))"
   ]
  },
  {
   "cell_type": "code",
   "execution_count": 33,
   "metadata": {},
   "outputs": [
    {
     "data": {
      "image/png": "[encoded data removed]",
      "text/plain": [
       "<Figure size 432x288 with 1 Axes>"
      ]
     },
     "metadata": {
      "needs_background": "light"
     },
     "output_type": "display_data"
    }
   ],
   "source": [
    "from sklearn.metrics import mean_squared_error # importamos el cálculo del error cuadrático medio (MSE)\n",
    "# Predecimos los valores y para los datos usados en el entrenamiento\n",
    "####### Genera los datos para la curva amarilla que se ajusta a los datos experimentales ############\n",
    "prediccion_entrenamiento = regresion_lineal.predict(X)\n",
    "############ Graficamos los datos experimentales ##########################################\n",
    "plt.scatter(x, y, color='navy', s=30, marker='o', label='training points')\n",
    "############ Graficamos los datos de entrenamiento (modelo ajustado, curva amarilla) ##########\n",
    "plt.plot(x,prediccion_entrenamiento, color='gold', linewidth=2,\n",
    "         label='$1.2x^3+-1.98*10^{2}x^2+1.3*10^{4}x-1.8*10^{5}$')\n",
    "######################### Agregamos y mostramos leyendas ##########################\n",
    "plt.legend(loc='upper left')\n",
    "plt.show()"
   ]
  },
  {
   "cell_type": "code",
   "execution_count": null,
   "metadata": {},
   "outputs": [],
   "source": []
  }
 ],
 "metadata": {
  "kernelspec": {
   "display_name": "Python 3",
   "language": "python",
   "name": "python3"
  },
  "language_info": {
   "codemirror_mode": {
    "name": "ipython",
    "version": 3
   },
   "file_extension": ".py",
   "mimetype": "text/x-python",
   "name": "python",
   "nbconvert_exporter": "python",
   "pygments_lexer": "ipython3",
   "version": "3.7.4"
  }
 },
 "nbformat": 4,
 "nbformat_minor": 4
}
