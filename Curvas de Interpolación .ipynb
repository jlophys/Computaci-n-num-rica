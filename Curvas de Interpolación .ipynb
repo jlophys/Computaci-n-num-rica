{
 "cells": [
  {
   "cell_type": "code",
   "execution_count": 47,
   "metadata": {},
   "outputs": [
    {
     "data": {
      "image/png": "[encoded data removed]",
      "text/plain": [
       "<Figure size 432x288 with 1 Axes>"
      ]
     },
     "metadata": {
      "needs_background": "light"
     },
     "output_type": "display_data"
    }
   ],
   "source": [
    "import matplotlib.pyplot as plt\n",
    "from sympy.solvers import solve\n",
    "from sympy import*\n",
    "import numpy as np\n",
    "##### Datos experimentales #############\n",
    "## pueden ser  x: los datos del número de iteraciones y y: la solución o el error #####\n",
    "x= np.array([0,1,2,3,4,5,6,7,8])\n",
    "y= np.array([0,1,4,9,16,25,36,49,64])\n",
    "########################################\n",
    "plt.scatter(x, y, color='navy', s=40, marker='o', label='training points')\n",
    "plt.legend(loc='upper left')\n",
    "plt.show()"
   ]
  },
  {
   "cell_type": "code",
   "execution_count": 51,
   "metadata": {},
   "outputs": [
    {
     "name": "stdout",
     "output_type": "stream",
     "text": [
      "w = [0.00000000e+00 1.99840144e-15 1.00000000e+00], b = -3.552713678800501e-15\n"
     ]
    }
   ],
   "source": [
    "# Importamos la clase de Regresión Lineal de scikit-learn\n",
    "from sklearn.linear_model import LinearRegression \n",
    "# para generar características polinómicas\n",
    "from sklearn.preprocessing import PolynomialFeatures \n",
    "###### usaremos polinomios de grado 2  ###############\n",
    "pf = PolynomialFeatures(degree = 2) \n",
    "####### transformamos la entrada en polinómica ######\n",
    "X = pf.fit_transform(x.reshape(-1,1))  \n",
    "####### creamos una instancia de LinearRegression ######\n",
    "regresion_lineal = LinearRegression() \n",
    "# instruimos a la regresión lineal que aprenda de los datos (ahora polinómicos) (X,y)\n",
    "regresion_lineal.fit(X, y) \n",
    "# vemos los parámetros que ha estimado la regresión lineal\n",
    "#### Los parametros vienen ordenados como w = [0 , A x, B x^2], b ==> b + Ax +Bx^2\n",
    "print('w = ' + str(regresion_lineal.coef_) + ', b = ' + str(regresion_lineal.intercept_))"
   ]
  },
  {
   "cell_type": "code",
   "execution_count": 49,
   "metadata": {},
   "outputs": [
    {
     "data": {
      "image/png": "[encoded data removed]",
      "text/plain": [
       "<Figure size 432x288 with 1 Axes>"
      ]
     },
     "metadata": {
      "needs_background": "light"
     },
     "output_type": "display_data"
    }
   ],
   "source": [
    "from sklearn.metrics import mean_squared_error # importamos el cálculo del error cuadrático medio (MSE)\n",
    "# Predecimos los valores y para los datos usados en el entrenamiento\n",
    "####### Genera los datos para la curva amarilla que se ajusta a los datos experimentales ############\n",
    "prediccion_entrenamiento = regresion_lineal.predict(X)\n",
    "############ Graficamos los datos experimentales ##########################################\n",
    "plt.scatter(x, y, color='navy', s=30, marker='o', label='training points')\n",
    "############ Graficamos los datos de entrenamiento (modelo ajustado, curva amarilla) ##########\n",
    "plt.plot(x,prediccion_entrenamiento, color='gold', linewidth=2,\n",
    "         label='$x^2+1.9*10^{-15}x-3.55*10^{-15}$')\n",
    "######################### Agregamos y mostramos leyendas ##########################\n",
    "plt.legend(loc='upper left')\n",
    "plt.show()"
   ]
  },
  {
   "cell_type": "code",
   "execution_count": 37,
   "metadata": {},
   "outputs": [
    {
     "name": "stdout",
     "output_type": "stream",
     "text": [
      "Error Cuadrático Medio (MSE) = 1.7530242338244708e-30\n",
      "Raíz del Error Cuadrático Medio (RMSE) = 1.3240182150652123e-15\n",
      "Coeficiente de Determinación R2 = 1.0\n"
     ]
    }
   ],
   "source": [
    "# Calculamos el Error Cuadrático Medio (MSE = Mean Squared Error)\n",
    "mse = mean_squared_error(y_true = y, y_pred = prediccion_entrenamiento)\n",
    "# La raíz cuadrada del MSE es el RMSE\n",
    "rmse = np.sqrt(mse)\n",
    "print('Error Cuadrático Medio (MSE) = ' + str(mse))\n",
    "print('Raíz del Error Cuadrático Medio (RMSE) = ' + str(rmse))\n",
    "# calculamos el coeficiente de determinación R2\n",
    "r2 = regresion_lineal.score(X, y)\n",
    "print('Coeficiente de Determinación R2 = ' + str(r2))"
   ]
  },
  {
   "cell_type": "code",
   "execution_count": null,
   "metadata": {},
   "outputs": [],
   "source": []
  }
 ],
 "metadata": {
  "kernelspec": {
   "display_name": "Python 3",
   "language": "python",
   "name": "python3"
  },
  "language_info": {
   "codemirror_mode": {
    "name": "ipython",
    "version": 3
   },
   "file_extension": ".py",
   "mimetype": "text/x-python",
   "name": "python",
   "nbconvert_exporter": "python",
   "pygments_lexer": "ipython3",
   "version": "3.7.4"
  }
 },
 "nbformat": 4,
 "nbformat_minor": 4
}
