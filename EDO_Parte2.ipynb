{
 "cells": [
  {
   "cell_type": "markdown",
   "metadata": {},
   "source": [
    "* Calcule $20$ puntos de la solución de la ecuación $y’-y-x+x^2-1=0$, con $y(0)=1$ espaciados en una distancia $h=0.1$, usando la función euler."
   ]
  },
  {
   "cell_type": "code",
   "execution_count": 29,
   "metadata": {},
   "outputs": [
    {
     "data": {
      "image/png": "[encoded data removed]",
      "text/plain": [
       "<Figure size 432x288 with 1 Axes>"
      ]
     },
     "metadata": {
      "needs_background": "light"
     },
     "output_type": "display_data"
    }
   ],
   "source": [
    "from pylab import *\n",
    "\n",
    "def f(x,y): return y-x**2+x+1 # Funcion de EDO\n",
    "\n",
    "def y(x): return exp(x)+x**2+x # Solución exacta EDO con PVI\n",
    "\n",
    "def euler(f,x,y,h,m):\n",
    "    u=[]\n",
    "    v=[]\n",
    "    for i in range(m):\n",
    "        y = y+h*f(x,y)\n",
    "        x = x+h\n",
    "        u = u+[x]\n",
    "        v = v+[y]\n",
    "    return [u,v]\n",
    "\n",
    "[u,v] = euler(f,0,1,1,20)\n",
    "plot(u,v,'or')\n",
    "\n",
    "x = arange(0,20,1)\n",
    "plot(x,y(x),'ob')\n",
    "grid(True)\n",
    "show()\n",
    "\n"
   ]
  },
  {
   "cell_type": "markdown",
   "metadata": {},
   "source": [
    "* Calcule $20$ puntos de la solución de la ecuación $y’-y-x+x^2-1=0$, con $y(0)=1$ espaciados en una distancia $h=0.1$, usando la función heun."
   ]
  },
  {
   "cell_type": "code",
   "execution_count": 28,
   "metadata": {
    "scrolled": true
   },
   "outputs": [
    {
     "data": {
      "image/png": "[encoded data removed]",
      "text/plain": [
       "<Figure size 432x288 with 1 Axes>"
      ]
     },
     "metadata": {
      "needs_background": "light"
     },
     "output_type": "display_data"
    }
   ],
   "source": [
    "from pylab import *\n",
    "\n",
    "def f(x,y): return y-x**2+x+1\n",
    "\n",
    "def y(x): return exp(x)+x**2+x\n",
    "\n",
    "def heun(f,x,y,h,m):\n",
    "    u=[]\n",
    "    v=[]\n",
    "    for i in range(m):\n",
    "        k1 = h*f(x,y)\n",
    "        k2 = h*f(x+h,y+k1)\n",
    "        y = y+0.5*(k1+k2)\n",
    "        x = x+h\n",
    "        u = u+[x]\n",
    "        v = v+[y]\n",
    "        \n",
    "    return [u,v]\n",
    "\n",
    "[u,v] = heun(f,0,1,1,20)\n",
    "plot(u,v,'or')\n",
    "x = arange(0,20,1)\n",
    "plot(x,y(x),'ob')\n",
    "grid(True)\n",
    "show()"
   ]
  },
  {
   "cell_type": "markdown",
   "metadata": {},
   "source": [
    "* Calcule $20$ puntos de la solución de la ecuación $y’-y-x+x^2-1=0$, con $y(0)=1$ espaciados en una distancia $h=0.1$, usando la función rungekutta."
   ]
  },
  {
   "cell_type": "code",
   "execution_count": 31,
   "metadata": {},
   "outputs": [
    {
     "data": {
      "image/png": "[encoded data removed]",
      "text/plain": [
       "<Figure size 432x288 with 1 Axes>"
      ]
     },
     "metadata": {
      "needs_background": "light"
     },
     "output_type": "display_data"
    }
   ],
   "source": [
    "from pylab import *\n",
    "\n",
    "def f(x,y): return y-x**2+x+1\n",
    "\n",
    "def y(x): return exp(x)+x**2+x\n",
    "\n",
    "def rungekutta(f,x,y,h,m):\n",
    "    u=[]\n",
    "    v=[]\n",
    "    for i in range(m):\n",
    "        k1 = h*f(x,y)\n",
    "        k2 = h*f(x+h/2,y+k1/2)\n",
    "        k3 = h*f(x+h/2,y+k2/2)\n",
    "        k4 = h*f(x+h,y+k3)\n",
    "        y = y+1/6*(k1+2*k2+2*k3+k4)\n",
    "        x = x+h\n",
    "        u = u+[x]\n",
    "        v = v+[y]\n",
    "        \n",
    "    return [u,v]\n",
    "\n",
    "[u,v] = rungekutta(f,0,1,1,20)\n",
    "plot(u,v,'or')\n",
    "x = arange(0,20,1)\n",
    "plot(x,y(x),'ob')\n",
    "grid(True)\n",
    "show()"
   ]
  },
  {
   "cell_type": "markdown",
   "metadata": {},
   "source": [
    "Problema 1\n",
    "-----------\n",
    "Si se drena el agua desde un tanque cilíndrico vertical por medio de abrir una válvula en la base, el líquido fluirá rápido cuando el tanque esté lleno y despacio conforme se drene. Como se ve, la tasa a la que el nivel del agua disminuye es:\n",
    "\n",
    "\\begin{equation}\n",
    "\\frac{dy}{dt}=-k\\sqrt{y}\n",
    "\\end{equation}\n",
    "\n",
    "donde $k$ es una constante que depende de la forma del agujero y del área de la sección transversal del tanque y agujero de drenaje. La profundidad del agua y se mide en metros y el tiempo t en minutos. Si $k = 0.06$, determine cuánto tiempo se requiere para vaciar el tanque si el nivel del fluido se encuentra en un inicio a 3m.\n"
   ]
  },
  {
   "cell_type": "code",
   "execution_count": 32,
   "metadata": {},
   "outputs": [
    {
     "data": {
      "image/png": "[encoded data removed]",
      "text/plain": [
       "<Figure size 432x288 with 1 Axes>"
      ]
     },
     "metadata": {
      "needs_background": "light"
     },
     "output_type": "display_data"
    }
   ],
   "source": [
    "from pylab import *\n",
    "from math import sqrt\n",
    "\n",
    "def f(x,y): return -0.06*sqrt(y)\n",
    "\n",
    "def euler(f,x,y,h,m):\n",
    "    u=[]\n",
    "    v=[]\n",
    "    for i in range(m):\n",
    "        y = y+h*f(x,y)\n",
    "        x = x+h\n",
    "        u = u+[x]\n",
    "        v = v+[y]\n",
    "    return [u,v]\n",
    "\n",
    "[u,v] = euler(f,0,3,1,40)\n",
    "plot(u,v,'or')\n",
    "\n",
    "#x = arange(0,2.1,0.1)\n",
    "#plot(x,y(x),'ob')\n",
    "grid(True)\n",
    "show()\n"
   ]
  },
  {
   "cell_type": "markdown",
   "metadata": {},
   "source": [
    "# Problema 2\n",
    "----------\n",
    "Para simular una población se utiliza el modelo logístico:\n",
    "\n",
    "\\begin{equation}\n",
    "\\frac{dp}{dt}=k_{gm}(1-\\frac{p}{p_{máx}})p\n",
    "\\end{equation}\n",
    "\n",
    "donde $p =$ población, $k_{gm} =$ tasa máxima de crecimiento en condiciones ilimitadas, y $p_{máx}$ es la capacidad de carga. Simule la población mundial entre 1950 y 2000, con el empleo de algún método numérico estudiados. Para la simulación, utilice las siguientes condiciones iniciales y valores de parámetros: $p_0$ (en 1950) = 2555 millones de personas, $k_{gm}=$$0.026/año, y $p_{máx} =$ 12 000 millones de personas. Haga que la función genere salidas que correspondan a las fechas de los datos siguientes de población. Desarrolle una gráfica de la simulación junto con los datos.\n",
    "\n",
    "|  $t$  |  $p$  | \n",
    "|------|------|\n",
    "| 1950 | 2555 |\n",
    "| 1960 | 3040 |\n",
    "| 1970 | 3708 |\n",
    "| 1980 | 4454 |\n",
    "| 1990 | 5276 |\n",
    "| 2000 | 6079 |\n",
    "\n",
    "\n"
   ]
  },
  {
   "cell_type": "markdown",
   "metadata": {},
   "source": [
    "Sistemas de Ecuacion con PVI\n",
    "---------------------------------------------"
   ]
  },
  {
   "cell_type": "markdown",
   "metadata": {},
   "source": [
    "Con la formula de Heun, obtenga $20$ puntos de la solución del siguiente sistema de ecuaciones\n",
    "\n",
    "$y’-x-y-z=0$, con $y(0)=1$ \n",
    "\n",
    "$z’+x-y+z=0$, con $z(0)=2$\n",
    "\n",
    "Utilice un paso de $h=0.1$."
   ]
  },
  {
   "cell_type": "code",
   "execution_count": 10,
   "metadata": {},
   "outputs": [
    {
     "data": {
      "image/png": "[encoded data removed]",
      "text/plain": [
       "<Figure size 432x288 with 1 Axes>"
      ]
     },
     "metadata": {
      "needs_background": "light"
     },
     "output_type": "display_data"
    }
   ],
   "source": [
    "from pylab import*\n",
    "\n",
    "def f(x,y,z): return x+y+z\n",
    "def g(x,y,z): return -x+y-z\n",
    "\n",
    "def heun2(f,g,x,y,z,h,m):\n",
    "    u = []\n",
    "    v = []\n",
    "    w = []\n",
    "    \n",
    "    for i in range(m):\n",
    "        k1y = h * f(x,y,z)\n",
    "        k1z = h * g(x,y,z)\n",
    "        \n",
    "        k2y = h * f(x + h, y + k1y, z + k1z)\n",
    "        k2z = h * g(x + h, y + k1y, z + k1z)\n",
    "        \n",
    "        y = y + 0.5*(k1y + k2y)\n",
    "        z = z + 0.5*(k1z + k2z)\n",
    "        \n",
    "        x = x + h\n",
    "        u = u + [x]\n",
    "        v = v + [y]\n",
    "        w = w + [z]\n",
    "    \n",
    "    return [u,v,w]\n",
    "\n",
    "[u,v,w] = heun2(f,g,0,1,2,0.1,20)\n",
    "plot(u,v,'sk')\n",
    "plot(u,w,'*k')\n",
    "grid(True)\n",
    "show()"
   ]
  },
  {
   "cell_type": "markdown",
   "metadata": {},
   "source": [
    "Con la formula de Runge-Kutta de cuarto orden, obtenga $20$ puntos de la solución del siguiente sistema de ecuaciones\n",
    "\n",
    "$y’-x-y-z=0$, con $y(0)=1$ \n",
    "\n",
    "$z’+x-y+z=0$, con $z(0)=2$\n",
    "\n",
    "Utilice un paso de $h=0.1$."
   ]
  },
  {
   "cell_type": "code",
   "execution_count": 11,
   "metadata": {},
   "outputs": [
    {
     "data": {
      "image/png": "[encoded data removed]",
      "text/plain": [
       "<Figure size 432x288 with 1 Axes>"
      ]
     },
     "metadata": {
      "needs_background": "light"
     },
     "output_type": "display_data"
    }
   ],
   "source": [
    "from pylab import*\n",
    "\n",
    "def f(x,y,z): return x+y+z\n",
    "def g(x,y,z): return -x+y-z\n",
    "\n",
    "def rungekutta2(f,g,x,y,z,h,m):\n",
    "    u = []\n",
    "    v = []\n",
    "    w = []\n",
    "    \n",
    "    for i in range(m):\n",
    "        k1y = h * f(x,y,z)\n",
    "        k1z = h * g(x,y,z)\n",
    "        k2y = h * f(x+h/2, y+k1y/2, z+k1z/2)\n",
    "        k2z = h * g(x+h/2, y+k1y/2, z+k1z/2)\n",
    "        k3y = h * f(x+h/2, y+k2y/2, z+k2z/2)\n",
    "        k3z = h * g(x+h/2, y+k2y/2, z+k2z/2)\n",
    "        k4y = h * f(x+h, y+k3y, z+k3z)\n",
    "        k4z = h * g(x+h, y+k3y, z+k3z)\n",
    "        y=y+1/6*(k1y+2*k2y+2*k3y+k4y)\n",
    "        z=z+1/6*(k1z+2*k2z+2*k3z+k4z)\n",
    "        x = x + h\n",
    "        u = u + [x]\n",
    "        v = v + [y]\n",
    "        w = w + [z]\n",
    "        \n",
    "    return [u,v,w]\n",
    "\n",
    "[u,v,w] = rungekutta2(f,g,0,1,2,0.1,20)\n",
    "plot(u,v,'sk')\n",
    "plot(u,w,'*k')\n",
    "grid(True)\n",
    "show()"
   ]
  },
  {
   "cell_type": "code",
   "execution_count": 6,
   "metadata": {},
   "outputs": [],
   "source": [
    "from IPython.display import Image"
   ]
  },
  {
   "cell_type": "code",
   "execution_count": 8,
   "metadata": {},
   "outputs": [
    {
     "data": {
      "image/png": "[encoded data removed]",
      "text/plain": [
       "<IPython.core.display.Image object>"
      ]
     },
     "execution_count": 8,
     "metadata": {},
     "output_type": "execute_result"
    }
   ],
   "source": [
    "Image(\"Circuito.png\")"
   ]
  },
  {
   "cell_type": "markdown",
   "metadata": {},
   "source": [
    "Considere el circuito eléctrico de la Figura 1. Queremos calcular la función $v(t)$ que representa\n",
    "la caída de potencial en los extremos del condensador C partiendo del instante inicial $t = 0$ en el cual ha sido apagado el interruptor I. Supongamos que la inductancia L puede expresarse como función explícita de la intensidad actual $i$, esto es $L = cte$. La ley de Ohm da:\n",
    "\n",
    "$\\varepsilon-i_1\\frac{dL}{dt}=i_1R_1+v$\n",
    "\n",
    "donde $R_1$ es una resistencia. Suponiendo que los flujos de corriente se dirigen como se indica en la Figura 1, derivando con respecto a $t$ ambos miembros de la ley de Kirchoff $i_1 = i_2 +i_3$ y observando que $i_3 = C\\frac{dv}{dt}$ e $i_2 = \\frac{v}{R_2}$, obtenemos la ecuación adicional\n",
    "\n",
    "$\\frac{di_1}{dt} = C\\frac{d^2v}{dt^2}+\\frac{1}{R_2}\\frac{dv}{dt}$\n",
    "\n",
    "Suponiendo que $R_1=R_2$\n",
    "\n",
    "$LC\\frac{d^2v}{dt^2}+(\\frac{L}{R}+RC)\\frac{dv}{dt}+2v = \\varepsilon$\n",
    "\n",
    "Haciendo el cambio de variables $v=z_1(t)$ tenemos el siguiente sistema de ecuaciones de primer orden\n",
    "\n",
    "$z'_1(t)= z_2(t)$\n",
    "\n",
    "$\\frac{dz_2(t)}{dt}=-\\frac{1}{LC}(\\frac{L}{R}+RC)z_2(t)-\\frac{2}{LC}z_1(t) + \\frac{\\varepsilon}{LC}$\n",
    "\n",
    "con condiciones iniciales $z_1(0) = z_2(0) = 0$.\n",
    "\n",
    "considerando $L = 0,1$ henrios, $C = 10^{−3}$, $R = 10$ ohmios y $\\varepsilon = 5$ voltios \n",
    "    "
   ]
  },
  {
   "cell_type": "code",
   "execution_count": 31,
   "metadata": {},
   "outputs": [
    {
     "data": {
      "image/png": "[encoded data removed]",
      "text/plain": [
       "<Figure size 432x288 with 1 Axes>"
      ]
     },
     "metadata": {
      "needs_background": "light"
     },
     "output_type": "display_data"
    }
   ],
   "source": [
    "from pylab import*\n",
    "\n",
    "def f(x,y,z): return z\n",
    "def g(x,y,z): return -110*z-2000*y+5000\n",
    "\n",
    "def rungekutta2(f,g,x,y,z,h,m):\n",
    "    u = []\n",
    "    v = []\n",
    "    w = []\n",
    "    \n",
    "    for i in range(m):\n",
    "        k1y = h * f(x,y,z)\n",
    "        k1z = h * g(x,y,z)\n",
    "        k2y = h * f(x+h/2, y+k1y/2, z+k1z/2)\n",
    "        k2z = h * g(x+h/2, y+k1y/2, z+k1z/2)\n",
    "        k3y = h * f(x+h/2, y+k2y/2, z+k2z/2)\n",
    "        k3z = h * g(x+h/2, y+k2y/2, z+k2z/2)\n",
    "        k4y = h * f(x+h, y+k3y, z+k3z)\n",
    "        k4z = h * g(x+h, y+k3y, z+k3z)\n",
    "        y=y+1/6*(k1y+2*k2y+2*k3y+k4y)\n",
    "        z=z+1/6*(k1z+2*k2z+2*k3z+k4z)\n",
    "        x = x + h\n",
    "        u = u + [x]\n",
    "        v = v + [y]\n",
    "        w = w + [z]\n",
    "        \n",
    "    return [u,v,w]\n",
    "\n",
    "[u,v,w] = rungekutta2(f,g,0,0,0,0.001,2000)\n",
    "plot(u,v,'-r')\n",
    "grid(True)\n",
    "show()"
   ]
  },
  {
   "cell_type": "code",
   "execution_count": 27,
   "metadata": {},
   "outputs": [
    {
     "data": {
      "image/png": "[encoded data removed]",
      "text/plain": [
       "<Figure size 432x288 with 1 Axes>"
      ]
     },
     "metadata": {
      "needs_background": "light"
     },
     "output_type": "display_data"
    }
   ],
   "source": [
    "plot(u,w,'-k')\n",
    "grid(True)\n",
    "show()"
   ]
  },
  {
   "cell_type": "markdown",
   "metadata": {},
   "source": [
    "Resolvamos el problema de un oscilador armónico subamortiguado\n",
    "\n",
    "$\\frac{d^2s}{dt^2}+2\\frac{ds}{dt}+10s = 0$\n",
    "\n",
    "Haciendo el cambio de variables $y=\\frac{ds}{dt}$ tenemos el siguiente sistema de ecuaciones de primer orden\n",
    "\n",
    "$y'(t)= z(t)$\n",
    "\n",
    "$\\frac{dz(t)}{dt}=-2z(t)-10y(t) $\n",
    "\n",
    "con condiciones iniciales \n",
    "\n",
    "$y(0) = -2$ \n",
    "\n",
    "$z(0) = 0$.\n",
    "\n",
    "\n",
    "    "
   ]
  },
  {
   "cell_type": "code",
   "execution_count": 43,
   "metadata": {},
   "outputs": [
    {
     "data": {
      "image/png": "[encoded data removed]",
      "text/plain": [
       "<Figure size 432x288 with 1 Axes>"
      ]
     },
     "metadata": {
      "needs_background": "light"
     },
     "output_type": "display_data"
    }
   ],
   "source": [
    "from pylab import*\n",
    "\n",
    "def f(x,y,z): return z\n",
    "def g(x,y,z): return -2*z-10*y\n",
    "\n",
    "def rungekutta2(f,g,x,y,z,h,m):\n",
    "    u = []\n",
    "    v = []\n",
    "    w = []\n",
    "    \n",
    "    for i in range(m):\n",
    "        k1y = h * f(x,y,z)\n",
    "        k1z = h * g(x,y,z)\n",
    "        k2y = h * f(x+h/2, y+k1y/2, z+k1z/2)\n",
    "        k2z = h * g(x+h/2, y+k1y/2, z+k1z/2)\n",
    "        k3y = h * f(x+h/2, y+k2y/2, z+k2z/2)\n",
    "        k3z = h * g(x+h/2, y+k2y/2, z+k2z/2)\n",
    "        k4y = h * f(x+h, y+k3y, z+k3z)\n",
    "        k4z = h * g(x+h, y+k3y, z+k3z)\n",
    "        y=y+1/6*(k1y+2*k2y+2*k3y+k4y)\n",
    "        z=z+1/6*(k1z+2*k2z+2*k3z+k4z)\n",
    "        x = x + h\n",
    "        u = u + [x]\n",
    "        v = v + [y]\n",
    "        w = w + [z]\n",
    "        \n",
    "    return [u,v,w]\n",
    "\n",
    "[u,v,w] = rungekutta2(f,g,0,-2,0,0.001,6000)\n",
    "plot(u,v,'-r')\n",
    "grid(True)\n",
    "show()"
   ]
  },
  {
   "cell_type": "code",
   "execution_count": 44,
   "metadata": {},
   "outputs": [
    {
     "data": {
      "image/png": "[encoded data removed]",
      "text/plain": [
       "<Figure size 432x288 with 1 Axes>"
      ]
     },
     "metadata": {
      "needs_background": "light"
     },
     "output_type": "display_data"
    }
   ],
   "source": [
    "plot(u,w,'-k')\n",
    "grid(True)\n",
    "show()"
   ]
  },
  {
   "cell_type": "markdown",
   "metadata": {},
   "source": [
    "Al mismo problema del oscilador armónico subamortiguado, agreguémosle un impulso externo de forma sinusoidal tal que la EDO con PVI queda:\n",
    "\n",
    "$\\frac{d^2s}{dt^2}+2\\frac{ds}{dt}+10s = 3cos(t)$\n",
    "\n",
    "Haciendo el cambio de variables $y=\\frac{ds}{dt}$ tenemos el siguiente sistema de ecuaciones de primer orden\n",
    "\n",
    "$y'(t)= z(t)$\n",
    "\n",
    "$\\frac{dz(t)}{dt}=-2z(t)-10y(t)+3cos(t) $\n",
    "\n",
    "con condiciones iniciales \n",
    "\n",
    "$y(0) = -2$ \n",
    "\n",
    "$z(0) = 0$."
   ]
  },
  {
   "cell_type": "code",
   "execution_count": 46,
   "metadata": {},
   "outputs": [
    {
     "data": {
      "image/png": "[encoded data removed]",
      "text/plain": [
       "<Figure size 432x288 with 1 Axes>"
      ]
     },
     "metadata": {
      "needs_background": "light"
     },
     "output_type": "display_data"
    }
   ],
   "source": [
    "import numpy as np\n",
    "from pylab import*\n",
    "\n",
    "def f(x,y,z): return z\n",
    "def g(x,y,z): return -2*z-10*y+3*np.cos(x)\n",
    "\n",
    "def rungekutta2(f,g,x,y,z,h,m):\n",
    "    u = []\n",
    "    v = []\n",
    "    w = []\n",
    "    \n",
    "    for i in range(m):\n",
    "        k1y = h * f(x,y,z)\n",
    "        k1z = h * g(x,y,z)\n",
    "        k2y = h * f(x+h/2, y+k1y/2, z+k1z/2)\n",
    "        k2z = h * g(x+h/2, y+k1y/2, z+k1z/2)\n",
    "        k3y = h * f(x+h/2, y+k2y/2, z+k2z/2)\n",
    "        k3z = h * g(x+h/2, y+k2y/2, z+k2z/2)\n",
    "        k4y = h * f(x+h, y+k3y, z+k3z)\n",
    "        k4z = h * g(x+h, y+k3y, z+k3z)\n",
    "        y=y+1/6*(k1y+2*k2y+2*k3y+k4y)\n",
    "        z=z+1/6*(k1z+2*k2z+2*k3z+k4z)\n",
    "        x = x + h\n",
    "        u = u + [x]\n",
    "        v = v + [y]\n",
    "        w = w + [z]\n",
    "        \n",
    "    return [u,v,w]\n",
    "\n",
    "[u,v,w] = rungekutta2(f,g,0,-2,0,0.001,15000)\n",
    "plot(u,v,'-r')\n",
    "grid(True)\n",
    "show()"
   ]
  },
  {
   "cell_type": "code",
   "execution_count": 47,
   "metadata": {},
   "outputs": [
    {
     "data": {
      "image/png": "[encoded data removed]",
      "text/plain": [
       "<Figure size 432x288 with 1 Axes>"
      ]
     },
     "metadata": {
      "needs_background": "light"
     },
     "output_type": "display_data"
    }
   ],
   "source": [
    "plot(u,w,'-k')\n",
    "grid(True)\n",
    "show()"
   ]
  },
  {
   "cell_type": "code",
   "execution_count": null,
   "metadata": {},
   "outputs": [],
   "source": []
  }
 ],
 "metadata": {
  "kernelspec": {
   "display_name": "Python 3",
   "language": "python",
   "name": "python3"
  },
  "language_info": {
   "codemirror_mode": {
    "name": "ipython",
    "version": 3
   },
   "file_extension": ".py",
   "mimetype": "text/x-python",
   "name": "python",
   "nbconvert_exporter": "python",
   "pygments_lexer": "ipython3",
   "version": "3.7.4"
  }
 },
 "nbformat": 4,
 "nbformat_minor": 5
}
