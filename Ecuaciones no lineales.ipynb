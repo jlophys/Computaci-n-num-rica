{
 "cells": [
  {
   "cell_type": "code",
   "execution_count": 1,
   "metadata": {},
   "outputs": [],
   "source": [
    "import matplotlib.pyplot as plt\n",
    "from sympy.solvers import solve\n",
    "from sympy import*\n",
    "import numpy as np"
   ]
  },
  {
   "cell_type": "code",
   "execution_count": 2,
   "metadata": {},
   "outputs": [
    {
     "data": {
      "image/png": "[encoded data removed]",
      "text/plain": [
       "<Figure size 432x288 with 1 Axes>"
      ]
     },
     "metadata": {
      "needs_background": "light"
     },
     "output_type": "display_data"
    },
    {
     "data": {
      "text/plain": [
       "<sympy.plotting.plot.Plot at 0x16e6bc92b88>"
      ]
     },
     "execution_count": 2,
     "metadata": {},
     "output_type": "execute_result"
    }
   ],
   "source": [
    "t = Symbol('t')\n",
    "g = exp(t) - pi*t\n",
    "plot(g,(t,0,2))"
   ]
  },
  {
   "cell_type": "code",
   "execution_count": 3,
   "metadata": {},
   "outputs": [
    {
     "name": "stdout",
     "output_type": "stream",
     "text": [
      "0.552198029112459\n",
      "Error absoluto = 0.052198029112458966\n",
      "Error relativo = 0.09452773526982015\n",
      "0.5538253947739784\n",
      "Error absoluto = 0.001627365661519442\n",
      "Error relativo = 0.002938409247527528\n",
      "0.5538270366428404\n",
      "Error absoluto = 1.6418688619790345e-06\n",
      "Error relativo = 2.9645877744279675e-06\n",
      "[0.5, 0.552198029112459, 0.5538253947739784, 0.5538270366428404]\n"
     ]
    }
   ],
   "source": [
    "e=0.001\n",
    "c = 0\n",
    "r=0.5\n",
    "S=[r]\n",
    "Error=[1]\n",
    "relativoN = [1]\n",
    "df = diff(g,t)\n",
    "while relativoN[c]>=e:\n",
    "    c = c + 1\n",
    "    r = r- float(g.subs(t,r))/float(df.subs(t,r))\n",
    "    S.append(r)\n",
    "    print(r)\n",
    "    Anterior = c-1\n",
    "    absoluto = np.absolute(S[c]-S[Anterior])\n",
    "    rela = np.absolute((S[c]-S[Anterior])/S[c])\n",
    "    relativoN.append(rela)\n",
    "    Error.append(absoluto)\n",
    "    print(\"Error absoluto =\",absoluto)\n",
    "    print(\"Error relativo =\",rela)\n",
    "print(S)"
   ]
  },
  {
   "cell_type": "code",
   "execution_count": 4,
   "metadata": {},
   "outputs": [],
   "source": [
    "from sympy import*\n",
    "import numpy as np\n",
    "from sympy import Symbol,diff\n",
    "[x,y] = symbols('x,y')\n",
    "f=x*exp(x+y)+y-3\n",
    "g=(x-2)**2+(y-1)**2+x*y-3\n",
    "F=[f,g]\n",
    "X=[x,y]\n",
    "U=[0.5,1]\n"
   ]
  },
  {
   "cell_type": "code",
   "execution_count": 5,
   "metadata": {},
   "outputs": [
    {
     "name": "stdout",
     "output_type": "stream",
     "text": [
      "(x,y) = [0.405451836483295 1.12180734593318]\n",
      "Distancia = 0.15419592973767904\n",
      "(x,y) = [0.409618877363502 1.11619120947847]\n",
      "Distancia = 0.006993226606884416\n",
      "(x,y) = [0.409627787030011 1.11618013799184]\n",
      "Distancia = 1.4211262203721376e-05\n",
      "(x,y) = [0.409627787064807 1.11618013794281]\n",
      "Distancia = 6.012361846897813e-11\n"
     ]
    }
   ],
   "source": [
    "e=0.00001\n",
    "c = 0\n",
    "Distancia = [1]\n",
    "while Distancia[c]>=e:\n",
    "    c = c + 1\n",
    "    n=len(F)\n",
    "    J=np.zeros([n,n],Symbol)\n",
    "    T=np.copy(F)\n",
    "    for i in range(n):  # Construir J\n",
    "        for j in range(n):\n",
    "            J[i][j]=diff(F[i],X[j])\n",
    "    for i in range(n):  #Evaluación de J\n",
    "        for j in range(n):\n",
    "            for k in range(n):\n",
    "                J[i][j]=J[i][j].subs(X[k],float(U[k]))\n",
    "    for i in range(n): #Evaluación de F\n",
    "        for j in range(n):\n",
    "            T[i]=T[i].subs(X[j],float(U[j]))\n",
    "    J = J.astype(np.float)\n",
    "    V = U\n",
    "    U=U-np.dot(np.linalg.inv(J),T) # Nuevo vector U\n",
    "    D = V - U\n",
    "    D = D.astype(np.float) \n",
    "    Dist = np.linalg.norm(D)\n",
    "    Distancia.append(Dist)\n",
    "    print(\"(x,y) =\",U)\n",
    "    print(\"Distancia =\",Dist)"
   ]
  },
  {
   "cell_type": "code",
   "execution_count": null,
   "metadata": {},
   "outputs": [],
   "source": []
  }
 ],
 "metadata": {
  "kernelspec": {
   "display_name": "Python 3",
   "language": "python",
   "name": "python3"
  },
  "language_info": {
   "codemirror_mode": {
    "name": "ipython",
    "version": 3
   },
   "file_extension": ".py",
   "mimetype": "text/x-python",
   "name": "python",
   "nbconvert_exporter": "python",
   "pygments_lexer": "ipython3",
   "version": "3.7.4"
  }
 },
 "nbformat": 4,
 "nbformat_minor": 4
}
