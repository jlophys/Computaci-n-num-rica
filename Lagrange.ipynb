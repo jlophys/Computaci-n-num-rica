{
 "cells": [
  {
   "cell_type": "code",
   "execution_count": 1,
   "metadata": {},
   "outputs": [
    {
     "name": "stdout",
     "output_type": "stream",
     "text": [
      "    valores de fi:  [1.  1.6 1.7 2. ]\n",
      "divisores en L(i):  [-0.024  0.004 -0.003  0.008]\n",
      "\n",
      "Polinomio de Lagrange, expresiones\n",
      "400.0*x*(x - 0.4)*(x - 0.3) - 566.666666666667*x*(x - 0.4)*(x - 0.2) + 250.0*x*(x - 0.3)*(x - 0.2) - 41.6666666666667*(x - 0.4)*(x - 0.3)*(x - 0.2)\n",
      "\n",
      "Polinomio de Lagrange: \n",
      "41.6666666666667*x**3 - 27.5*x**2 + 6.83333333333334*x + 1.0\n"
     ]
    },
    {
     "data": {
      "image/png": "[encoded data removed]",
      "text/plain": [
       "<Figure size 432x288 with 1 Axes>"
      ]
     },
     "metadata": {
      "needs_background": "light"
     },
     "output_type": "display_data"
    }
   ],
   "source": [
    "# Interpolacion de Lagrange\n",
    "# divisoresL solo para mostrar valores\n",
    "import numpy as np\n",
    "import sympy as sym\n",
    "import matplotlib.pyplot as plt\n",
    "\n",
    "# INGRESO , Datos de prueba\n",
    "xi = np.array([0, 0.2, 0.3, 0.4])\n",
    "fi = np.array([1, 1.6, 1.7, 2.0])\n",
    "\n",
    "# PROCEDIMIENTO\n",
    "# Polinomio de Lagrange\n",
    "n = len(xi)\n",
    "x = sym.Symbol('x')\n",
    "polinomio = 0\n",
    "divisorL = np.zeros(n, dtype = float)\n",
    "for i in range(0,n,1):\n",
    "    \n",
    "    # Termino de Lagrange\n",
    "    numerador = 1\n",
    "    denominador = 1\n",
    "    for j  in range(0,n,1):\n",
    "        if (j!=i):\n",
    "            numerador = numerador*(x-xi[j])\n",
    "            denominador = denominador*(xi[i]-xi[j])\n",
    "    terminoLi = numerador/denominador\n",
    "\n",
    "    polinomio = polinomio + terminoLi*fi[i]\n",
    "    divisorL[i] = denominador\n",
    "\n",
    "# simplifica el polinomio\n",
    "polisimple = polinomio.expand()\n",
    "\n",
    "# para evaluación numérica\n",
    "px = sym.lambdify(x,polisimple)\n",
    "\n",
    "# Puntos para la gráfica\n",
    "muestras = 101\n",
    "a = np.min(xi)\n",
    "b = np.max(xi)\n",
    "pxi = np.linspace(a,b,muestras)\n",
    "pfi = px(pxi)\n",
    "\n",
    "# SALIDA\n",
    "print('    valores de fi: ',fi)\n",
    "print('divisores en L(i): ',divisorL)\n",
    "print()\n",
    "print('Polinomio de Lagrange, expresiones')\n",
    "print(polinomio)\n",
    "print()\n",
    "print('Polinomio de Lagrange: ')\n",
    "print(polisimple)\n",
    "\n",
    "# Gráfica\n",
    "plt.plot(xi,fi,'o', label = 'Puntos')\n",
    "plt.plot(pxi,pfi, label = 'Polinomio')\n",
    "plt.legend()\n",
    "plt.xlabel('xi')\n",
    "plt.ylabel('fi')\n",
    "plt.title('Interpolación Lagrange')\n",
    "plt.show()"
   ]
  },
  {
   "cell_type": "code",
   "execution_count": null,
   "metadata": {},
   "outputs": [],
   "source": []
  }
 ],
 "metadata": {
  "kernelspec": {
   "display_name": "Python 3",
   "language": "python",
   "name": "python3"
  },
  "language_info": {
   "codemirror_mode": {
    "name": "ipython",
    "version": 3
   },
   "file_extension": ".py",
   "mimetype": "text/x-python",
   "name": "python",
   "nbconvert_exporter": "python",
   "pygments_lexer": "ipython3",
   "version": "3.7.4"
  }
 },
 "nbformat": 4,
 "nbformat_minor": 4
}
