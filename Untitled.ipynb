{
 "cells": [
  {
   "cell_type": "code",
   "execution_count": 83,
   "metadata": {},
   "outputs": [
    {
     "data": {
      "image/png": "[encoded data removed]",
      "text/plain": [
       "<Figure size 432x288 with 1 Axes>"
      ]
     },
     "metadata": {
      "needs_background": "light"
     },
     "output_type": "display_data"
    },
    {
     "data": {
      "text/plain": [
       "<sympy.plotting.plot.Plot at 0x2ccb4b67f48>"
      ]
     },
     "execution_count": 83,
     "metadata": {},
     "output_type": "execute_result"
    }
   ],
   "source": [
    "from sympy import*\n",
    "import numpy as np\n",
    "x = Symbol('x')\n",
    "f = 4*x**3-112*x**2+768*x-1000\n",
    "plot(f,(x,0,20))"
   ]
  },
  {
   "cell_type": "code",
   "execution_count": 81,
   "metadata": {},
   "outputs": [
    {
     "data": {
      "text/latex": [
       "$\\displaystyle 18.211 - 1.0 \\cdot 10^{-10} i$"
      ],
      "text/plain": [
       "18.211 - 0.e-10*I"
      ]
     },
     "execution_count": 81,
     "metadata": {},
     "output_type": "execute_result"
    }
   ],
   "source": [
    "from sympy.solvers import solve\n",
    "r = solve(f)\n",
    "r[2].evalf(5)\n",
    "\n"
   ]
  },
  {
   "cell_type": "code",
   "execution_count": 82,
   "metadata": {},
   "outputs": [
    {
     "ename": "NameError",
     "evalue": "name 'plot' is not defined",
     "output_type": "error",
     "traceback": [
      "\u001b[1;31m---------------------------------------------------------------------------\u001b[0m",
      "\u001b[1;31mNameError\u001b[0m                                 Traceback (most recent call last)",
      "\u001b[1;32m<ipython-input-82-73fad01ef086>\u001b[0m in \u001b[0;36m<module>\u001b[1;34m\u001b[0m\n\u001b[0;32m      1\u001b[0m \u001b[0my\u001b[0m \u001b[1;33m=\u001b[0m \u001b[0mSymbol\u001b[0m\u001b[1;33m(\u001b[0m\u001b[1;34m'y'\u001b[0m\u001b[1;33m)\u001b[0m\u001b[1;33m\u001b[0m\u001b[1;33m\u001b[0m\u001b[0m\n\u001b[0;32m      2\u001b[0m \u001b[0mf\u001b[0m \u001b[1;33m=\u001b[0m \u001b[1;36m4\u001b[0m\u001b[1;33m*\u001b[0m\u001b[0my\u001b[0m\u001b[1;33m**\u001b[0m\u001b[1;36m3\u001b[0m\u001b[1;33m-\u001b[0m\u001b[1;36m112\u001b[0m\u001b[1;33m*\u001b[0m\u001b[0my\u001b[0m\u001b[1;33m**\u001b[0m\u001b[1;36m2\u001b[0m\u001b[1;33m+\u001b[0m\u001b[1;36m768\u001b[0m\u001b[1;33m*\u001b[0m\u001b[0my\u001b[0m\u001b[1;33m-\u001b[0m\u001b[1;36m1260\u001b[0m\u001b[1;33m\u001b[0m\u001b[1;33m\u001b[0m\u001b[0m\n\u001b[1;32m----> 3\u001b[1;33m \u001b[0mplot\u001b[0m\u001b[1;33m(\u001b[0m\u001b[0mf\u001b[0m\u001b[1;33m,\u001b[0m\u001b[1;33m(\u001b[0m\u001b[0my\u001b[0m\u001b[1;33m,\u001b[0m\u001b[1;36m0\u001b[0m\u001b[1;33m,\u001b[0m\u001b[1;36m20\u001b[0m\u001b[1;33m)\u001b[0m\u001b[1;33m)\u001b[0m\u001b[1;33m\u001b[0m\u001b[1;33m\u001b[0m\u001b[0m\n\u001b[0m",
      "\u001b[1;31mNameError\u001b[0m: name 'plot' is not defined"
     ]
    }
   ],
   "source": [
    "y = Symbol('y')\n",
    "f = 4*y**3-112*y**2+768*y-1260\n",
    "plot(f,(y,0,20))"
   ]
  },
  {
   "cell_type": "code",
   "execution_count": null,
   "metadata": {},
   "outputs": [],
   "source": [
    "r = solve(f)\n",
    "(r[0].evalf(5))\n"
   ]
  },
  {
   "cell_type": "code",
   "execution_count": null,
   "metadata": {},
   "outputs": [],
   "source": [
    "indice = 0\n",
    "r = 0\n",
    "n = 10\n",
    "x = [7,0,0,0,0,0,0,0,0,0,0]\n",
    "Error = [0,0,0,0,0,0,0,0,0,0,0]\n",
    "while r < 10:\n",
    "    r = indice+1\n",
    "    x[r] = 0.5*(x[indice] + (n/x[indice]))\n",
    "    Error[indice]=np.absolute(x[r]-x[indice])\n",
    "    print(\"T vale\",x[indice])\n",
    "    print(\"El error absoluto vale\",Error[indice])\n",
    "    indice+=1\n",
    "else:\n",
    "    print(\"Se ha completado toda la iteración y T vale\", x[-1])"
   ]
  },
  {
   "cell_type": "code",
   "execution_count": null,
   "metadata": {},
   "outputs": [],
   "source": [
    "Error"
   ]
  },
  {
   "cell_type": "code",
   "execution_count": null,
   "metadata": {},
   "outputs": [],
   "source": [
    "import matplotlib.pyplot as plt\n",
    "plt.plot(Error)\n",
    "plt.show()"
   ]
  },
  {
   "cell_type": "code",
   "execution_count": null,
   "metadata": {},
   "outputs": [],
   "source": [
    "indice = 0\n",
    "r = 0\n",
    "n = 10\n",
    "x = [7,0,0,0,0,0,0,0,0,0,0]\n",
    "Error = [0,0,0,0,0,0,0,0,0,0,0]\n",
    "while r < 10:\n",
    "    r = indice+1\n",
    "    x[r] = 0.4*(x[indice] + (n/x[indice]))\n",
    "    Error[indice]=np.absolute(x[r]-x[indice])\n",
    "    print(\"T vale\",x[indice])\n",
    "    print(\"El error absoluto vale\",Error[indice])\n",
    "    indice+=1\n",
    "else:\n",
    "    print(\"Se ha completado toda la iteración y T vale\", x[-1])"
   ]
  },
  {
   "cell_type": "code",
   "execution_count": null,
   "metadata": {},
   "outputs": [],
   "source": [
    "x"
   ]
  },
  {
   "cell_type": "code",
   "execution_count": null,
   "metadata": {},
   "outputs": [],
   "source": [
    "import matplotlib.pyplot as plt\n",
    "plt.plot(Error)\n",
    "plt.show()"
   ]
  },
  {
   "cell_type": "code",
   "execution_count": null,
   "metadata": {},
   "outputs": [],
   "source": [
    "A = np.array([[1, 0], [2, -1]])\n",
    "print(\"A = \",A)\n",
    "NM2 = np.linalg.norm(A)\n",
    "print(\"La norma 2 matricial es:\",NM2)\n",
    "NMinf = np.linalg.norm(A, np.inf)\n",
    "print(\"La norma Inf matricial es:\",NMinf)\n",
    "NM1 = np.linalg.norm(A, 1)\n",
    "print(\"La norma 1 matricial es:\",NM1)\n",
    "v = np.array([0, 1, 2, 3])\n",
    "NV2 = np.linalg.norm(v)\n",
    "print(\"La norma 2 vectorial es:\",NV2)\n",
    "NVinf = np.linalg.norm(v, np.inf)\n",
    "print(\"La norma Inf vectorial es:\",NVinf)\n",
    "NV1 = np.linalg.norm(v, 1)\n",
    "print(\"La norma 1 vectorial es:\",NV1)\n",
    "CMN2 = np.linalg.cond(A)\n",
    "print(\"El Condicionamiento de A bajo Norma 2 es:\",CMN2)\n",
    "CMNinf = np.linalg.cond(A, np.inf)\n",
    "print(\"El Condicionamiento de A bajo Norma Inf es:\",CMNinf)"
   ]
  },
  {
   "cell_type": "code",
   "execution_count": 51,
   "metadata": {},
   "outputs": [
    {
     "data": {
      "text/plain": [
       "matrix([[40.],\n",
       "        [10.],\n",
       "        [20.]])"
      ]
     },
     "execution_count": 51,
     "metadata": {},
     "output_type": "execute_result"
    }
   ],
   "source": [
    "A1 = np.matrix([[2.0, 4.0, 5.0],[6.0, 9.0, 8.0],[4.1, 5.0, 3.0]])\n",
    "b1 = np.matrix([[220],[490],[274]])\n",
    "if np.linalg.det(A1) == 0:\n",
    "    x1 = None\n",
    "    print(\"No se puede resolver\")\n",
    "else:\n",
    "    x1 = (A1**-1)*b1\n",
    "x1"
   ]
  },
  {
   "cell_type": "code",
   "execution_count": 52,
   "metadata": {},
   "outputs": [],
   "source": [
    "A2 = np.matrix([[2.0, 4.0, 5.0],[6.0, 9.0, 8.0],[4.2, 5.0, 3.0]])\n",
    "b2 = np.matrix([[220],[490],[274]])\n",
    "if np.linalg.det(A2) == 0:\n",
    "    x2 = None\n",
    "    print(\"No se puede resolver\")\n",
    "else:\n",
    "    x2 = (A2**-1)*b2"
   ]
  },
  {
   "cell_type": "code",
   "execution_count": 53,
   "metadata": {},
   "outputs": [
    {
     "name": "stdout",
     "output_type": "stream",
     "text": [
      "El Condicionamiento de A bajo Norma 2 es: 449.8563226547252\n",
      "El Condicionamiento de A bajo Norma Inf es: 766.0769230769237\n"
     ]
    }
   ],
   "source": [
    "CMN2 = np.linalg.cond(A1)\n",
    "print(\"El Condicionamiento de A bajo Norma 2 es:\",CMN2)\n",
    "CMNinf = np.linalg.cond(A1, np.inf)\n",
    "print(\"El Condicionamiento de A bajo Norma Inf es:\",CMNinf)"
   ]
  },
  {
   "cell_type": "code",
   "execution_count": 74,
   "metadata": {},
   "outputs": [
    {
     "name": "stdout",
     "output_type": "stream",
     "text": [
      "Error relativo = 1.0\n",
      "La solución aproximada en la i-esima iteración es x= 1.0\n",
      "Error absoluto = 1.0\n",
      "Error relativo = 1.0\n",
      "La solución aproximada en la i-esima iteración es x= 1.5\n",
      "Error absoluto = 0.5\n",
      "Error relativo = 0.3333333333333333\n",
      "La solución aproximada en la i-esima iteración es x= 1.25\n",
      "Error absoluto = 0.25\n",
      "Error relativo = 0.2\n",
      "La solución aproximada en la i-esima iteración es x= 1.375\n",
      "Error absoluto = 0.125\n",
      "Error relativo = 0.09090909090909091\n",
      "La solución aproximada en la i-esima iteración es x= 1.4375\n",
      "Error absoluto = 0.0625\n",
      "Error relativo = 0.043478260869565216\n",
      "La solución aproximada en la i-esima iteración es x= 1.40625\n",
      "Error absoluto = 0.03125\n",
      "Error relativo = 0.022222222222222223\n",
      "La solución aproximada en la i-esima iteración es x= 1.421875\n",
      "Error absoluto = 0.015625\n",
      "Error relativo = 0.01098901098901099\n",
      "La solución aproximada en la i-esima iteración es x= 1.4140625\n",
      "Error absoluto = 0.0078125\n",
      "Error relativo = 0.0055248618784530384\n",
      "La solución aproximada en la i-esima iteración es x= 1.41796875\n",
      "Error absoluto = 0.00390625\n",
      "Error relativo = 0.0027548209366391185\n",
      "La solución aproximada en la i-esima iteración es x= 1.416015625\n",
      "Error absoluto = 0.001953125\n",
      "Error relativo = 0.001379310344827586\n",
      "La solución aproximada en la i-esima iteración es x= 1.4150390625\n",
      "Error absoluto = 0.0009765625\n",
      "Error relativo = 0.0006901311249137336\n",
      "La solución aproximada en la i-esima iteración es x= 1.41455078125\n",
      "Error absoluto = 0.00048828125\n",
      "Error relativo = 0.00034518467380048324\n",
      "La solución aproximada en la i-esima iteración es x= 1.414306640625\n",
      "Error absoluto = 0.000244140625\n",
      "Error relativo = 0.00017262213015708613\n",
      "La solución aproximada en la i-esima iteración es x= 1.4141845703125\n",
      "Error absoluto = 0.0001220703125\n",
      "Error relativo = 8.631851532153647e-05\n",
      "La solución aproximada en la i-esima iteración es x= 1.41424560546875\n",
      "Error absoluto = 6.103515625e-05\n",
      "Error relativo = 4.3157395019636617e-05\n",
      "La solución aproximada en la i-esima iteración es x= 1.414215087890625\n",
      "Error absoluto = 3.0517578125e-05\n",
      "Error relativo = 2.1579163160052653e-05\n",
      "La solución aproximada en la i-esima iteración es x= 1.4141998291015625\n",
      "Error absoluto = 1.52587890625e-05\n",
      "Error relativo = 1.0789697996353082e-05\n",
      "La solución aproximada en la i-esima iteración es x= 1.4142074584960938\n",
      "Error absoluto = 7.62939453125e-06\n"
     ]
    }
   ],
   "source": [
    "#Calcular la raiz real de la ecuación f(x)=xe^x - pi = 0. Suponer que se desea que el error sea menor que e=0.000001\n",
    "def f(x): return x**2-2\n",
    "a=0\n",
    "b=2\n",
    "e=0.00001\n",
    "r=0\n",
    "S=[a]\n",
    "Error=[]\n",
    "relativo = [np.absolute((b-a)/(b))]\n",
    "while relativo[r]>=e:\n",
    "    print(\"Error relativo =\",relativo[r])\n",
    "    r = r+1\n",
    "    c=(a+b)/2\n",
    "    print(\"La solución aproximada en la i-esima iteración es x=\",c)\n",
    "    if f(c)==0:\n",
    "        print(\"La solución obtiene en x=\",c)\n",
    "    else:\n",
    "        if f(a)*f(c)>0:\n",
    "            a=c\n",
    "        else:\n",
    "            b=c\n",
    "    Anterior = r-1\n",
    "    S.append(c)\n",
    "    absoluto = np.absolute(S[r]-S[Anterior])\n",
    "    Error.append(absoluto)\n",
    "    print(\"Error absoluto =\",absoluto)\n",
    "    relativo.append(np.absolute((absoluto/S[r])*100)\n",
    "    print(\"Error porcentual =\",relativo)"
   ]
  },
  {
   "cell_type": "code",
   "execution_count": 77,
   "metadata": {},
   "outputs": [
    {
     "data": {
      "text/plain": [
       "[<matplotlib.lines.Line2D at 0x2ccb39faa88>]"
      ]
     },
     "execution_count": 77,
     "metadata": {},
     "output_type": "execute_result"
    },
    {
     "data": {
      "image/png": "[encoded data removed]",
      "text/plain": [
       "<Figure size 432x288 with 1 Axes>"
      ]
     },
     "metadata": {
      "needs_background": "light"
     },
     "output_type": "display_data"
    }
   ],
   "source": [
    "plt.plot(Error)\n",
    "plt.plot(S)\n",
    "plt.plot(relativo)"
   ]
  },
  {
   "cell_type": "code",
   "execution_count": 79,
   "metadata": {},
   "outputs": [
    {
     "ename": "SyntaxError",
     "evalue": "invalid syntax (<ipython-input-79-4da361b66fbf>, line 5)",
     "output_type": "error",
     "traceback": [
      "\u001b[1;36m  File \u001b[1;32m\"<ipython-input-79-4da361b66fbf>\"\u001b[1;36m, line \u001b[1;32m5\u001b[0m\n\u001b[1;33m    r =\u001b[0m\n\u001b[1;37m       ^\u001b[0m\n\u001b[1;31mSyntaxError\u001b[0m\u001b[1;31m:\u001b[0m invalid syntax\n"
     ]
    }
   ],
   "source": [
    "from sympy import*\n",
    "t = symbol('t')\n",
    "f = t*exp(t) - pi\n",
    "df = diff(f,t)\n",
    "r =\n",
    "r = r- float(f.subs(t,r))/float(df.subs(t,r))\n",
    "print(r)"
   ]
  },
  {
   "cell_type": "code",
   "execution_count": null,
   "metadata": {},
   "outputs": [],
   "source": []
  }
 ],
 "metadata": {
  "kernelspec": {
   "display_name": "Python 3",
   "language": "python",
   "name": "python3"
  },
  "language_info": {
   "codemirror_mode": {
    "name": "ipython",
    "version": 3
   },
   "file_extension": ".py",
   "mimetype": "text/x-python",
   "name": "python",
   "nbconvert_exporter": "python",
   "pygments_lexer": "ipython3",
   "version": "3.7.4"
  }
 },
 "nbformat": 4,
 "nbformat_minor": 4
}
